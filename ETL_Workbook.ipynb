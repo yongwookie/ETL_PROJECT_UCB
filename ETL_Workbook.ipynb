{
 "cells": [
  {
   "cell_type": "code",
   "execution_count": 63,
   "metadata": {},
   "outputs": [],
   "source": [
    "import pandas as pd\n",
    "import requests\n",
    "import zkey\n",
    "from citipy import citipy\n",
    "\n",
    "import sqlalchemy\n",
    "from sqlalchemy import create_engine, func\n",
    "\n",
    "from sqlalchemy import create_engine"
   ]
  },
  {
   "cell_type": "code",
   "execution_count": 64,
   "metadata": {},
   "outputs": [],
   "source": [
    "## Database Setup"
   ]
  },
  {
   "cell_type": "code",
   "execution_count": 65,
   "metadata": {},
   "outputs": [],
   "source": [
    "engine = create_engine(\"sqlite:///etl.sqlite\")"
   ]
  },
  {
   "cell_type": "markdown",
   "metadata": {},
   "source": [
    "## Yelp Business Data"
   ]
  },
  {
   "cell_type": "code",
   "execution_count": 66,
   "metadata": {},
   "outputs": [],
   "source": [
    "y_bus = pd.read_csv(\"Resources/yelp_academic_dataset_business_copy.csv\")"
   ]
  },
  {
   "cell_type": "code",
   "execution_count": 67,
   "metadata": {},
   "outputs": [
    {
     "data": {
      "text/html": [
       "<div>\n",
       "<style scoped>\n",
       "    .dataframe tbody tr th:only-of-type {\n",
       "        vertical-align: middle;\n",
       "    }\n",
       "\n",
       "    .dataframe tbody tr th {\n",
       "        vertical-align: top;\n",
       "    }\n",
       "\n",
       "    .dataframe thead th {\n",
       "        text-align: right;\n",
       "    }\n",
       "</style>\n",
       "<table border=\"1\" class=\"dataframe\">\n",
       "  <thead>\n",
       "    <tr style=\"text-align: right;\">\n",
       "      <th></th>\n",
       "      <th>business_id</th>\n",
       "      <th>categories</th>\n",
       "      <th>longitude</th>\n",
       "      <th>latitude</th>\n",
       "      <th>review_count</th>\n",
       "      <th>city</th>\n",
       "      <th>stars</th>\n",
       "    </tr>\n",
       "  </thead>\n",
       "  <tbody>\n",
       "    <tr>\n",
       "      <th>0</th>\n",
       "      <td>vcNAWiLM4dR7D2nwwJ7nCA</td>\n",
       "      <td>Doctors;Health &amp; Medical</td>\n",
       "      <td>-111.983758</td>\n",
       "      <td>33.499313</td>\n",
       "      <td>7</td>\n",
       "      <td>Phoenix</td>\n",
       "      <td>3.5</td>\n",
       "    </tr>\n",
       "    <tr>\n",
       "      <th>1</th>\n",
       "      <td>JwUE5GmEO-sH1FuwJgKBlQ</td>\n",
       "      <td>Restaurants</td>\n",
       "      <td>-89.335844</td>\n",
       "      <td>43.238893</td>\n",
       "      <td>26</td>\n",
       "      <td>De Forest</td>\n",
       "      <td>4.0</td>\n",
       "    </tr>\n",
       "    <tr>\n",
       "      <th>2</th>\n",
       "      <td>uGykseHzyS5xAMWoN6YUqA</td>\n",
       "      <td>American (Traditional);Restaurants</td>\n",
       "      <td>-89.353437</td>\n",
       "      <td>43.252267</td>\n",
       "      <td>16</td>\n",
       "      <td>De Forest</td>\n",
       "      <td>4.0</td>\n",
       "    </tr>\n",
       "    <tr>\n",
       "      <th>3</th>\n",
       "      <td>LRKJF43s9-3jG9Lgx4zODg</td>\n",
       "      <td>Food;Ice Cream &amp; Frozen Yogurt;Fast Food;Resta...</td>\n",
       "      <td>-89.374983</td>\n",
       "      <td>43.251045</td>\n",
       "      <td>7</td>\n",
       "      <td>De Forest</td>\n",
       "      <td>4.5</td>\n",
       "    </tr>\n",
       "    <tr>\n",
       "      <th>4</th>\n",
       "      <td>RgDg-k9S5YD_BaxMckifkg</td>\n",
       "      <td>Chinese;Restaurants</td>\n",
       "      <td>-89.343722</td>\n",
       "      <td>43.240875</td>\n",
       "      <td>3</td>\n",
       "      <td>De Forest</td>\n",
       "      <td>4.0</td>\n",
       "    </tr>\n",
       "  </tbody>\n",
       "</table>\n",
       "</div>"
      ],
      "text/plain": [
       "              business_id                                         categories  \\\n",
       "0  vcNAWiLM4dR7D2nwwJ7nCA                           Doctors;Health & Medical   \n",
       "1  JwUE5GmEO-sH1FuwJgKBlQ                                        Restaurants   \n",
       "2  uGykseHzyS5xAMWoN6YUqA                 American (Traditional);Restaurants   \n",
       "3  LRKJF43s9-3jG9Lgx4zODg  Food;Ice Cream & Frozen Yogurt;Fast Food;Resta...   \n",
       "4  RgDg-k9S5YD_BaxMckifkg                                Chinese;Restaurants   \n",
       "\n",
       "    longitude   latitude  review_count       city  stars  \n",
       "0 -111.983758  33.499313             7    Phoenix    3.5  \n",
       "1  -89.335844  43.238893            26  De Forest    4.0  \n",
       "2  -89.353437  43.252267            16  De Forest    4.0  \n",
       "3  -89.374983  43.251045             7  De Forest    4.5  \n",
       "4  -89.343722  43.240875             3  De Forest    4.0  "
      ]
     },
     "execution_count": 67,
     "metadata": {},
     "output_type": "execute_result"
    }
   ],
   "source": [
    "y_bus.head()"
   ]
  },
  {
   "cell_type": "code",
   "execution_count": 68,
   "metadata": {},
   "outputs": [
    {
     "name": "stdout",
     "output_type": "stream",
     "text": [
      "42153\n"
     ]
    }
   ],
   "source": [
    "print(len(y_bus))"
   ]
  },
  {
   "cell_type": "code",
   "execution_count": 69,
   "metadata": {},
   "outputs": [
    {
     "data": {
      "text/html": [
       "<div>\n",
       "<style scoped>\n",
       "    .dataframe tbody tr th:only-of-type {\n",
       "        vertical-align: middle;\n",
       "    }\n",
       "\n",
       "    .dataframe tbody tr th {\n",
       "        vertical-align: top;\n",
       "    }\n",
       "\n",
       "    .dataframe thead th {\n",
       "        text-align: right;\n",
       "    }\n",
       "</style>\n",
       "<table border=\"1\" class=\"dataframe\">\n",
       "  <thead>\n",
       "    <tr style=\"text-align: right;\">\n",
       "      <th></th>\n",
       "      <th>business_id</th>\n",
       "      <th>categories</th>\n",
       "      <th>longitude</th>\n",
       "      <th>latitude</th>\n",
       "      <th>review_count</th>\n",
       "      <th>city</th>\n",
       "      <th>stars</th>\n",
       "    </tr>\n",
       "  </thead>\n",
       "  <tbody>\n",
       "    <tr>\n",
       "      <th>0</th>\n",
       "      <td>vcNAWiLM4dR7D2nwwJ7nCA</td>\n",
       "      <td>Doctors;Health &amp; Medical</td>\n",
       "      <td>-111.983758</td>\n",
       "      <td>33.499313</td>\n",
       "      <td>7</td>\n",
       "      <td>Phoenix</td>\n",
       "      <td>3.5</td>\n",
       "    </tr>\n",
       "    <tr>\n",
       "      <th>1</th>\n",
       "      <td>JwUE5GmEO-sH1FuwJgKBlQ</td>\n",
       "      <td>Restaurants</td>\n",
       "      <td>-89.335844</td>\n",
       "      <td>43.238893</td>\n",
       "      <td>26</td>\n",
       "      <td>De Forest</td>\n",
       "      <td>4.0</td>\n",
       "    </tr>\n",
       "    <tr>\n",
       "      <th>2</th>\n",
       "      <td>uGykseHzyS5xAMWoN6YUqA</td>\n",
       "      <td>American (Traditional);Restaurants</td>\n",
       "      <td>-89.353437</td>\n",
       "      <td>43.252267</td>\n",
       "      <td>16</td>\n",
       "      <td>De Forest</td>\n",
       "      <td>4.0</td>\n",
       "    </tr>\n",
       "    <tr>\n",
       "      <th>3</th>\n",
       "      <td>LRKJF43s9-3jG9Lgx4zODg</td>\n",
       "      <td>Food;Ice Cream &amp; Frozen Yogurt;Fast Food;Resta...</td>\n",
       "      <td>-89.374983</td>\n",
       "      <td>43.251045</td>\n",
       "      <td>7</td>\n",
       "      <td>De Forest</td>\n",
       "      <td>4.5</td>\n",
       "    </tr>\n",
       "    <tr>\n",
       "      <th>4</th>\n",
       "      <td>RgDg-k9S5YD_BaxMckifkg</td>\n",
       "      <td>Chinese;Restaurants</td>\n",
       "      <td>-89.343722</td>\n",
       "      <td>43.240875</td>\n",
       "      <td>3</td>\n",
       "      <td>De Forest</td>\n",
       "      <td>4.0</td>\n",
       "    </tr>\n",
       "  </tbody>\n",
       "</table>\n",
       "</div>"
      ],
      "text/plain": [
       "              business_id                                         categories  \\\n",
       "0  vcNAWiLM4dR7D2nwwJ7nCA                           Doctors;Health & Medical   \n",
       "1  JwUE5GmEO-sH1FuwJgKBlQ                                        Restaurants   \n",
       "2  uGykseHzyS5xAMWoN6YUqA                 American (Traditional);Restaurants   \n",
       "3  LRKJF43s9-3jG9Lgx4zODg  Food;Ice Cream & Frozen Yogurt;Fast Food;Resta...   \n",
       "4  RgDg-k9S5YD_BaxMckifkg                                Chinese;Restaurants   \n",
       "\n",
       "    longitude   latitude  review_count       city  stars  \n",
       "0 -111.983758  33.499313             7    Phoenix    3.5  \n",
       "1  -89.335844  43.238893            26  De Forest    4.0  \n",
       "2  -89.353437  43.252267            16  De Forest    4.0  \n",
       "3  -89.374983  43.251045             7  De Forest    4.5  \n",
       "4  -89.343722  43.240875             3  De Forest    4.0  "
      ]
     },
     "execution_count": 69,
     "metadata": {},
     "output_type": "execute_result"
    }
   ],
   "source": [
    "yelp_business = pd.DataFrame(y_bus)\n",
    "yelp_business.head()"
   ]
  },
  {
   "cell_type": "code",
   "execution_count": 70,
   "metadata": {},
   "outputs": [
    {
     "data": {
      "text/plain": [
       "pandas.core.frame.DataFrame"
      ]
     },
     "execution_count": 70,
     "metadata": {},
     "output_type": "execute_result"
    }
   ],
   "source": [
    "type(yelp_business)"
   ]
  },
  {
   "cell_type": "code",
   "execution_count": 71,
   "metadata": {},
   "outputs": [
    {
     "data": {
      "text/plain": [
       "business_id       0\n",
       "categories      339\n",
       "longitude         0\n",
       "latitude          0\n",
       "review_count      0\n",
       "city              0\n",
       "stars             0\n",
       "dtype: int64"
      ]
     },
     "execution_count": 71,
     "metadata": {},
     "output_type": "execute_result"
    }
   ],
   "source": [
    "yelp_business.isna().sum()"
   ]
  },
  {
   "cell_type": "code",
   "execution_count": 72,
   "metadata": {},
   "outputs": [],
   "source": [
    "yelp_business = yelp_business.dropna(how='any')"
   ]
  },
  {
   "cell_type": "code",
   "execution_count": 73,
   "metadata": {},
   "outputs": [
    {
     "data": {
      "text/plain": [
       "business_id     0\n",
       "categories      0\n",
       "longitude       0\n",
       "latitude        0\n",
       "review_count    0\n",
       "city            0\n",
       "stars           0\n",
       "dtype: int64"
      ]
     },
     "execution_count": 73,
     "metadata": {},
     "output_type": "execute_result"
    }
   ],
   "source": [
    "yelp_business.isna().sum()"
   ]
  },
  {
   "cell_type": "code",
   "execution_count": 74,
   "metadata": {},
   "outputs": [
    {
     "data": {
      "text/plain": [
       "0"
      ]
     },
     "execution_count": 74,
     "metadata": {},
     "output_type": "execute_result"
    }
   ],
   "source": [
    "yelp_business.duplicated().sum()"
   ]
  },
  {
   "cell_type": "code",
   "execution_count": 75,
   "metadata": {},
   "outputs": [
    {
     "data": {
      "text/html": [
       "<div>\n",
       "<style scoped>\n",
       "    .dataframe tbody tr th:only-of-type {\n",
       "        vertical-align: middle;\n",
       "    }\n",
       "\n",
       "    .dataframe tbody tr th {\n",
       "        vertical-align: top;\n",
       "    }\n",
       "\n",
       "    .dataframe thead th {\n",
       "        text-align: right;\n",
       "    }\n",
       "</style>\n",
       "<table border=\"1\" class=\"dataframe\">\n",
       "  <thead>\n",
       "    <tr style=\"text-align: right;\">\n",
       "      <th></th>\n",
       "      <th>longitude</th>\n",
       "      <th>latitude</th>\n",
       "      <th>review_count</th>\n",
       "      <th>stars</th>\n",
       "    </tr>\n",
       "  </thead>\n",
       "  <tbody>\n",
       "    <tr>\n",
       "      <th>count</th>\n",
       "      <td>41814.000000</td>\n",
       "      <td>41814.000000</td>\n",
       "      <td>41814.000000</td>\n",
       "      <td>41814.000000</td>\n",
       "    </tr>\n",
       "    <tr>\n",
       "      <th>mean</th>\n",
       "      <td>-104.051942</td>\n",
       "      <td>36.534810</td>\n",
       "      <td>29.530014</td>\n",
       "      <td>3.677166</td>\n",
       "    </tr>\n",
       "    <tr>\n",
       "      <th>std</th>\n",
       "      <td>28.430954</td>\n",
       "      <td>5.835889</td>\n",
       "      <td>92.844505</td>\n",
       "      <td>0.884427</td>\n",
       "    </tr>\n",
       "    <tr>\n",
       "      <th>min</th>\n",
       "      <td>-115.369725</td>\n",
       "      <td>32.876638</td>\n",
       "      <td>3.000000</td>\n",
       "      <td>1.000000</td>\n",
       "    </tr>\n",
       "    <tr>\n",
       "      <th>25%</th>\n",
       "      <td>-115.136178</td>\n",
       "      <td>33.476500</td>\n",
       "      <td>4.000000</td>\n",
       "      <td>3.000000</td>\n",
       "    </tr>\n",
       "    <tr>\n",
       "      <th>50%</th>\n",
       "      <td>-112.067534</td>\n",
       "      <td>33.678615</td>\n",
       "      <td>8.000000</td>\n",
       "      <td>3.500000</td>\n",
       "    </tr>\n",
       "    <tr>\n",
       "      <th>75%</th>\n",
       "      <td>-111.882191</td>\n",
       "      <td>36.142010</td>\n",
       "      <td>22.000000</td>\n",
       "      <td>4.500000</td>\n",
       "    </tr>\n",
       "    <tr>\n",
       "      <th>max</th>\n",
       "      <td>-3.050088</td>\n",
       "      <td>56.033777</td>\n",
       "      <td>4084.000000</td>\n",
       "      <td>5.000000</td>\n",
       "    </tr>\n",
       "  </tbody>\n",
       "</table>\n",
       "</div>"
      ],
      "text/plain": [
       "          longitude      latitude  review_count         stars\n",
       "count  41814.000000  41814.000000  41814.000000  41814.000000\n",
       "mean    -104.051942     36.534810     29.530014      3.677166\n",
       "std       28.430954      5.835889     92.844505      0.884427\n",
       "min     -115.369725     32.876638      3.000000      1.000000\n",
       "25%     -115.136178     33.476500      4.000000      3.000000\n",
       "50%     -112.067534     33.678615      8.000000      3.500000\n",
       "75%     -111.882191     36.142010     22.000000      4.500000\n",
       "max       -3.050088     56.033777   4084.000000      5.000000"
      ]
     },
     "execution_count": 75,
     "metadata": {},
     "output_type": "execute_result"
    }
   ],
   "source": [
    "yelp_business.describe()"
   ]
  },
  {
   "cell_type": "markdown",
   "metadata": {},
   "source": [
    "### Yelp Reviews"
   ]
  },
  {
   "cell_type": "code",
   "execution_count": 76,
   "metadata": {},
   "outputs": [],
   "source": [
    "y_rev = pd.read_csv(\"Resources/yelp_academic_dataset_review.copy.csv\")"
   ]
  },
  {
   "cell_type": "code",
   "execution_count": 77,
   "metadata": {},
   "outputs": [
    {
     "data": {
      "text/html": [
       "<div>\n",
       "<style scoped>\n",
       "    .dataframe tbody tr th:only-of-type {\n",
       "        vertical-align: middle;\n",
       "    }\n",
       "\n",
       "    .dataframe tbody tr th {\n",
       "        vertical-align: top;\n",
       "    }\n",
       "\n",
       "    .dataframe thead th {\n",
       "        text-align: right;\n",
       "    }\n",
       "</style>\n",
       "<table border=\"1\" class=\"dataframe\">\n",
       "  <thead>\n",
       "    <tr style=\"text-align: right;\">\n",
       "      <th></th>\n",
       "      <th>text</th>\n",
       "      <th>votes.cool</th>\n",
       "      <th>business_id</th>\n",
       "      <th>votes.funny</th>\n",
       "      <th>stars</th>\n",
       "      <th>date</th>\n",
       "      <th>type</th>\n",
       "      <th>votes.useful</th>\n",
       "    </tr>\n",
       "  </thead>\n",
       "  <tbody>\n",
       "    <tr>\n",
       "      <th>0</th>\n",
       "      <td>dr. goldberg offers everything i look for in a...</td>\n",
       "      <td>1</td>\n",
       "      <td>vcNAWiLM4dR7D2nwwJ7nCA</td>\n",
       "      <td>0</td>\n",
       "      <td>5</td>\n",
       "      <td>5/17/2007</td>\n",
       "      <td>review</td>\n",
       "      <td>2</td>\n",
       "    </tr>\n",
       "    <tr>\n",
       "      <th>1</th>\n",
       "      <td>Unfortunately, the frustration of being Dr. Go...</td>\n",
       "      <td>0</td>\n",
       "      <td>vcNAWiLM4dR7D2nwwJ7nCA</td>\n",
       "      <td>0</td>\n",
       "      <td>2</td>\n",
       "      <td>3/22/2010</td>\n",
       "      <td>review</td>\n",
       "      <td>2</td>\n",
       "    </tr>\n",
       "    <tr>\n",
       "      <th>2</th>\n",
       "      <td>Dr. Goldberg has been my doctor for years and ...</td>\n",
       "      <td>1</td>\n",
       "      <td>vcNAWiLM4dR7D2nwwJ7nCA</td>\n",
       "      <td>0</td>\n",
       "      <td>4</td>\n",
       "      <td>2/14/2012</td>\n",
       "      <td>review</td>\n",
       "      <td>1</td>\n",
       "    </tr>\n",
       "    <tr>\n",
       "      <th>3</th>\n",
       "      <td>Been going to Dr. Goldberg for over 10 years. ...</td>\n",
       "      <td>0</td>\n",
       "      <td>vcNAWiLM4dR7D2nwwJ7nCA</td>\n",
       "      <td>0</td>\n",
       "      <td>4</td>\n",
       "      <td>3/2/2012</td>\n",
       "      <td>review</td>\n",
       "      <td>0</td>\n",
       "    </tr>\n",
       "    <tr>\n",
       "      <th>4</th>\n",
       "      <td>Got a letter in the mail last week that said D...</td>\n",
       "      <td>1</td>\n",
       "      <td>vcNAWiLM4dR7D2nwwJ7nCA</td>\n",
       "      <td>0</td>\n",
       "      <td>4</td>\n",
       "      <td>5/15/2012</td>\n",
       "      <td>review</td>\n",
       "      <td>2</td>\n",
       "    </tr>\n",
       "  </tbody>\n",
       "</table>\n",
       "</div>"
      ],
      "text/plain": [
       "                                                text  votes.cool  \\\n",
       "0  dr. goldberg offers everything i look for in a...           1   \n",
       "1  Unfortunately, the frustration of being Dr. Go...           0   \n",
       "2  Dr. Goldberg has been my doctor for years and ...           1   \n",
       "3  Been going to Dr. Goldberg for over 10 years. ...           0   \n",
       "4  Got a letter in the mail last week that said D...           1   \n",
       "\n",
       "              business_id  votes.funny  stars       date    type  votes.useful  \n",
       "0  vcNAWiLM4dR7D2nwwJ7nCA            0      5  5/17/2007  review             2  \n",
       "1  vcNAWiLM4dR7D2nwwJ7nCA            0      2  3/22/2010  review             2  \n",
       "2  vcNAWiLM4dR7D2nwwJ7nCA            0      4  2/14/2012  review             1  \n",
       "3  vcNAWiLM4dR7D2nwwJ7nCA            0      4   3/2/2012  review             0  \n",
       "4  vcNAWiLM4dR7D2nwwJ7nCA            0      4  5/15/2012  review             2  "
      ]
     },
     "execution_count": 77,
     "metadata": {},
     "output_type": "execute_result"
    }
   ],
   "source": [
    "y_rev.head()"
   ]
  },
  {
   "cell_type": "code",
   "execution_count": 78,
   "metadata": {},
   "outputs": [
    {
     "name": "stdout",
     "output_type": "stream",
     "text": [
      "1048575\n"
     ]
    }
   ],
   "source": [
    "print(len(y_rev))"
   ]
  },
  {
   "cell_type": "code",
   "execution_count": 79,
   "metadata": {},
   "outputs": [
    {
     "data": {
      "text/html": [
       "<div>\n",
       "<style scoped>\n",
       "    .dataframe tbody tr th:only-of-type {\n",
       "        vertical-align: middle;\n",
       "    }\n",
       "\n",
       "    .dataframe tbody tr th {\n",
       "        vertical-align: top;\n",
       "    }\n",
       "\n",
       "    .dataframe thead th {\n",
       "        text-align: right;\n",
       "    }\n",
       "</style>\n",
       "<table border=\"1\" class=\"dataframe\">\n",
       "  <thead>\n",
       "    <tr style=\"text-align: right;\">\n",
       "      <th></th>\n",
       "      <th>text</th>\n",
       "      <th>votes.cool</th>\n",
       "      <th>business_id</th>\n",
       "      <th>votes.funny</th>\n",
       "      <th>stars</th>\n",
       "      <th>date</th>\n",
       "      <th>type</th>\n",
       "      <th>votes.useful</th>\n",
       "    </tr>\n",
       "  </thead>\n",
       "  <tbody>\n",
       "    <tr>\n",
       "      <th>0</th>\n",
       "      <td>dr. goldberg offers everything i look for in a...</td>\n",
       "      <td>1</td>\n",
       "      <td>vcNAWiLM4dR7D2nwwJ7nCA</td>\n",
       "      <td>0</td>\n",
       "      <td>5</td>\n",
       "      <td>5/17/2007</td>\n",
       "      <td>review</td>\n",
       "      <td>2</td>\n",
       "    </tr>\n",
       "    <tr>\n",
       "      <th>1</th>\n",
       "      <td>Unfortunately, the frustration of being Dr. Go...</td>\n",
       "      <td>0</td>\n",
       "      <td>vcNAWiLM4dR7D2nwwJ7nCA</td>\n",
       "      <td>0</td>\n",
       "      <td>2</td>\n",
       "      <td>3/22/2010</td>\n",
       "      <td>review</td>\n",
       "      <td>2</td>\n",
       "    </tr>\n",
       "    <tr>\n",
       "      <th>2</th>\n",
       "      <td>Dr. Goldberg has been my doctor for years and ...</td>\n",
       "      <td>1</td>\n",
       "      <td>vcNAWiLM4dR7D2nwwJ7nCA</td>\n",
       "      <td>0</td>\n",
       "      <td>4</td>\n",
       "      <td>2/14/2012</td>\n",
       "      <td>review</td>\n",
       "      <td>1</td>\n",
       "    </tr>\n",
       "    <tr>\n",
       "      <th>3</th>\n",
       "      <td>Been going to Dr. Goldberg for over 10 years. ...</td>\n",
       "      <td>0</td>\n",
       "      <td>vcNAWiLM4dR7D2nwwJ7nCA</td>\n",
       "      <td>0</td>\n",
       "      <td>4</td>\n",
       "      <td>3/2/2012</td>\n",
       "      <td>review</td>\n",
       "      <td>0</td>\n",
       "    </tr>\n",
       "    <tr>\n",
       "      <th>4</th>\n",
       "      <td>Got a letter in the mail last week that said D...</td>\n",
       "      <td>1</td>\n",
       "      <td>vcNAWiLM4dR7D2nwwJ7nCA</td>\n",
       "      <td>0</td>\n",
       "      <td>4</td>\n",
       "      <td>5/15/2012</td>\n",
       "      <td>review</td>\n",
       "      <td>2</td>\n",
       "    </tr>\n",
       "  </tbody>\n",
       "</table>\n",
       "</div>"
      ],
      "text/plain": [
       "                                                text  votes.cool  \\\n",
       "0  dr. goldberg offers everything i look for in a...           1   \n",
       "1  Unfortunately, the frustration of being Dr. Go...           0   \n",
       "2  Dr. Goldberg has been my doctor for years and ...           1   \n",
       "3  Been going to Dr. Goldberg for over 10 years. ...           0   \n",
       "4  Got a letter in the mail last week that said D...           1   \n",
       "\n",
       "              business_id  votes.funny  stars       date    type  votes.useful  \n",
       "0  vcNAWiLM4dR7D2nwwJ7nCA            0      5  5/17/2007  review             2  \n",
       "1  vcNAWiLM4dR7D2nwwJ7nCA            0      2  3/22/2010  review             2  \n",
       "2  vcNAWiLM4dR7D2nwwJ7nCA            0      4  2/14/2012  review             1  \n",
       "3  vcNAWiLM4dR7D2nwwJ7nCA            0      4   3/2/2012  review             0  \n",
       "4  vcNAWiLM4dR7D2nwwJ7nCA            0      4  5/15/2012  review             2  "
      ]
     },
     "execution_count": 79,
     "metadata": {},
     "output_type": "execute_result"
    }
   ],
   "source": [
    "yelp_reviews = pd.DataFrame(y_rev)\n",
    "yelp_reviews.head()"
   ]
  },
  {
   "cell_type": "code",
   "execution_count": 80,
   "metadata": {},
   "outputs": [
    {
     "data": {
      "text/plain": [
       "pandas.core.frame.DataFrame"
      ]
     },
     "execution_count": 80,
     "metadata": {},
     "output_type": "execute_result"
    }
   ],
   "source": [
    "type(yelp_reviews)"
   ]
  },
  {
   "cell_type": "code",
   "execution_count": 81,
   "metadata": {},
   "outputs": [
    {
     "data": {
      "text/plain": [
       "text            1\n",
       "votes.cool      0\n",
       "business_id     0\n",
       "votes.funny     0\n",
       "stars           0\n",
       "date            0\n",
       "type            0\n",
       "votes.useful    0\n",
       "dtype: int64"
      ]
     },
     "execution_count": 81,
     "metadata": {},
     "output_type": "execute_result"
    }
   ],
   "source": [
    "yelp_reviews.isna().sum()"
   ]
  },
  {
   "cell_type": "code",
   "execution_count": 82,
   "metadata": {},
   "outputs": [],
   "source": [
    "yelp_reviews = yelp_reviews.dropna(how = 'any')"
   ]
  },
  {
   "cell_type": "code",
   "execution_count": 83,
   "metadata": {},
   "outputs": [
    {
     "data": {
      "text/plain": [
       "text            0\n",
       "votes.cool      0\n",
       "business_id     0\n",
       "votes.funny     0\n",
       "stars           0\n",
       "date            0\n",
       "type            0\n",
       "votes.useful    0\n",
       "dtype: int64"
      ]
     },
     "execution_count": 83,
     "metadata": {},
     "output_type": "execute_result"
    }
   ],
   "source": [
    "yelp_reviews.isna().sum()"
   ]
  },
  {
   "cell_type": "code",
   "execution_count": 84,
   "metadata": {},
   "outputs": [
    {
     "data": {
      "text/plain": [
       "2"
      ]
     },
     "execution_count": 84,
     "metadata": {},
     "output_type": "execute_result"
    }
   ],
   "source": [
    "yelp_reviews.duplicated().sum()"
   ]
  },
  {
   "cell_type": "code",
   "execution_count": 85,
   "metadata": {},
   "outputs": [],
   "source": [
    "yelp_reviews = yelp_reviews.drop_duplicates()"
   ]
  },
  {
   "cell_type": "code",
   "execution_count": 86,
   "metadata": {},
   "outputs": [
    {
     "data": {
      "text/plain": [
       "0"
      ]
     },
     "execution_count": 86,
     "metadata": {},
     "output_type": "execute_result"
    }
   ],
   "source": [
    "yelp_reviews.duplicated().sum()"
   ]
  },
  {
   "cell_type": "code",
   "execution_count": 87,
   "metadata": {},
   "outputs": [
    {
     "ename": "SyntaxError",
     "evalue": "invalid syntax (<ipython-input-87-20264d66f784>, line 3)",
     "output_type": "error",
     "traceback": [
      "\u001b[1;36m  File \u001b[1;32m\"<ipython-input-87-20264d66f784>\"\u001b[1;36m, line \u001b[1;32m3\u001b[0m\n\u001b[1;33m    for i in fruits\u001b[0m\n\u001b[1;37m                   ^\u001b[0m\n\u001b[1;31mSyntaxError\u001b[0m\u001b[1;31m:\u001b[0m invalid syntax\n"
     ]
    }
   ],
   "source": [
    "fruits = [\"apple\", \"banana\", \"cherry\"]\n",
    "\n",
    "for i in fruits"
   ]
  },
  {
   "cell_type": "code",
   "execution_count": null,
   "metadata": {},
   "outputs": [],
   "source": [
    "### Merging dataframe"
   ]
  },
  {
   "cell_type": "code",
   "execution_count": null,
   "metadata": {},
   "outputs": [],
   "source": [
    "total_yelp = pd.merge(y_bus,y_rev, how=\"outer\", on=\"business_id\")\n",
    "\n",
    "total_yelp.head()"
   ]
  },
  {
   "cell_type": "code",
   "execution_count": null,
   "metadata": {},
   "outputs": [],
   "source": [
    "total_yelp=total_yelp.sample(n=4000, replace='False')\n",
    "\n",
    "len(total_yelp)"
   ]
  },
  {
   "cell_type": "code",
   "execution_count": null,
   "metadata": {},
   "outputs": [],
   "source": [
    "total_yelp.isna().sum()"
   ]
  },
  {
   "cell_type": "code",
   "execution_count": null,
   "metadata": {},
   "outputs": [],
   "source": [
    "total_yelp = total_yelp.dropna(how='any')"
   ]
  },
  {
   "cell_type": "code",
   "execution_count": null,
   "metadata": {},
   "outputs": [],
   "source": [
    "total_yelp.isna().sum()"
   ]
  },
  {
   "cell_type": "code",
   "execution_count": null,
   "metadata": {},
   "outputs": [],
   "source": [
    "total_yelp.duplicated().sum()"
   ]
  },
  {
   "cell_type": "code",
   "execution_count": null,
   "metadata": {},
   "outputs": [],
   "source": [
    "total_yelp = total_yelp.drop_duplicates()"
   ]
  },
  {
   "cell_type": "code",
   "execution_count": null,
   "metadata": {},
   "outputs": [],
   "source": [
    "total_yelp.to_sql(yelp.data)"
   ]
  },
  {
   "cell_type": "markdown",
   "metadata": {},
   "source": [
    "## Zomato API"
   ]
  },
  {
   "cell_type": "code",
   "execution_count": null,
   "metadata": {},
   "outputs": [],
   "source": [
    "url = \"https://developers.zomato.com/api/v2.1/search?\"\n",
    "\n"
   ]
  },
  {
   "cell_type": "code",
   "execution_count": null,
   "metadata": {},
   "outputs": [],
   "source": [
    "header = {\"Accept\" : \"application/json\", \"user_key\": \"0092256f05a628b53994aec9ae1f30e0\"}\n",
    "\n",
    "response = requests.get(url, headers=header).json()\n",
    "\n",
    "print(url)"
   ]
  },
  {
   "cell_type": "code",
   "execution_count": null,
   "metadata": {},
   "outputs": [],
   "source": [
    "print(response)"
   ]
  },
  {
   "cell_type": "code",
   "execution_count": null,
   "metadata": {},
   "outputs": [],
   "source": [
    "# List for holding lat_lngs and cities\n",
    "lat_lngs = []\n",
    "cities = []\n",
    "\n",
    "# Create a set of random lat and lng combinations\n",
    "lats = np.random.uniform(low=-90.000, high=90.000, size=1500)\n",
    "lngs = np.random.uniform(low=-180.000, high=180.000, size=1500)\n",
    "lat_lngs = zip(lats, lngs)\n",
    "\n",
    "# Identify nearest city for each lat, lng combination\n",
    "for lat_lng in lat_lngs:\n",
    "   city = citipy.nearest_city(lat_lng[0], lat_lng[1]).city_name\n",
    "\n",
    "   # If the city is unique, then add it to a our cities list\n",
    "   if city not in cities:\n",
    "       cities.append(city)\n",
    "\n",
    "# Print the city count to confirm sufficient count\n",
    "total = len(cities)"
   ]
  },
  {
   "cell_type": "code",
   "execution_count": null,
   "metadata": {},
   "outputs": [],
   "source": [
    "query_url = “https://developers.zomato.com/api/v2.1/cities?q=”\n",
    "city_num = 0\n",
    "api_data = open(‘output_data/locations.csv’, ‘w’)\n",
    "csvwriter = csv.writer(api_data)\n",
    "header = [‘Location ID’]\n",
    "csvwriter.writerow(header)\n",
    "\n",
    "for city in cities:\n",
    "   url_header = {“Accept”: “application/json”, “user_key”: “4ae5aec1f3577713b3ece44fc9c3d123\"}\n",
    "   response = requests.get(query_url + city, headers=url_header).json()\n",
    "   city_num += 1\n",
    "   try:\n",
    "       csvwriter.writerow([response[‘id’]])\n",
    "       print(f”Processing Record {city_num} of {total} | {city}“)\n",
    "   except:\n",
    "       print(f”City not found. Skipping...“)\n",
    "       continue\n",
    "api_data.close()"
   ]
  },
  {
   "cell_type": "code",
   "execution_count": null,
   "metadata": {},
   "outputs": [],
   "source": [
    "query_url = “https://developers.zomato.com/api/v2.1/search?entity_id=”\n",
    "city_num = 0\n",
    "api_data = open(‘output_data/zomato.csv’, ‘w’)\n",
    "csvwriter = csv.writer(api_data)\n",
    "header = [‘City’, ‘Restaurant’, ‘Lat’, ‘Lng’, ‘Rating’, ‘Rating Text’]\n",
    "csvwriter.writerow(header)\n",
    "\n",
    "for city in cities:\n",
    "   url_header = {“Accept”: “application/json”, “user_key”: “0092256f05a628b53994aec9ae1f30e0\"}\n",
    "   response = requests.get(query_url + city, headers=url_header).json()\n",
    "   city_num += 1\n",
    "   try:\n",
    "       csvwriter.writerow([response[‘location’][‘city’], response[‘name’], response[‘location’][‘latitude’],\n",
    "                   response[‘location’][‘longitude’], response[‘user_rating’][‘aggregate_rating’], response[‘user_rating’][‘rating_text’]])\n",
    "       print(f”Processing Record {city_num} of {total} | {city}“)\n",
    "   except:\n",
    "       print(f”City not found. Skipping...“)\n",
    "       continue\n",
    "api_data.close()\n",
    "Message Input\n",
    "\n",
    "\n",
    "Message Danny, shahzina"
   ]
  },
  {
   "cell_type": "code",
   "execution_count": null,
   "metadata": {
    "scrolled": true
   },
   "outputs": [],
   "source": [
    "url1 = \"https://developers.zomato.com/api/v2.1/geocode?\"\n",
    "\n",
    "query_url1 = url1 + \"user-key=\" + zkey\n",
    "\n",
    "response1 = requests.get(query_url1, headers={'user-key': zkey}).json()\n",
    "pprint(response1)"
   ]
  },
  {
   "cell_type": "code",
   "execution_count": null,
   "metadata": {},
   "outputs": [],
   "source": [
    "city_list = []\n",
    "\n",
    "for i in response1:\n",
    "    city= response1['location']['city_name']\n",
    "    \n",
    "    city_list.append(city)"
   ]
  },
  {
   "cell_type": "code",
   "execution_count": null,
   "metadata": {},
   "outputs": [],
   "source": [
    "url2 = \"https://developers.zomato.com/api/v2.1/search?\"\n",
    "query_url2 = url2 + \"user-key=\" + zkey\n",
    "\n",
    "response2 = requests.get(query_url2, headers={'user-key': zkey}).json()\n",
    "pprint(response2)"
   ]
  },
  {
   "cell_type": "code",
   "execution_count": null,
   "metadata": {},
   "outputs": [],
   "source": [
    "data = {'city' :[], 'latitude': [], 'longitude':[],'review' :[], 'rating': [], 'rating_text':[] }\n",
    "df = pd.DataFrame(data)\n",
    "df.head()"
   ]
  },
  {
   "cell_type": "code",
   "execution_count": null,
   "metadata": {},
   "outputs": [],
   "source": [
    "city_list = []\n",
    "lat_list = []\n",
    "long_list = []\n",
    "review_list = []\n",
    "rating_list = []\n",
    "ratingtext_list = []\n",
    "\n",
    "for i in response2:\n",
    "    rest = response2['restaurants']\n",
    "    city = rest['restaurant'] #['city']\n",
    "    \n",
    "    city_list.append(city)"
   ]
  },
  {
   "cell_type": "code",
   "execution_count": null,
   "metadata": {},
   "outputs": [],
   "source": [
    "city_list"
   ]
  }
 ],
 "metadata": {
  "kernelspec": {
   "display_name": "Python 3",
   "language": "python",
   "name": "python3"
  },
  "language_info": {
   "codemirror_mode": {
    "name": "ipython",
    "version": 3
   },
   "file_extension": ".py",
   "mimetype": "text/x-python",
   "name": "python",
   "nbconvert_exporter": "python",
   "pygments_lexer": "ipython3",
   "version": "3.7.1"
  }
 },
 "nbformat": 4,
 "nbformat_minor": 2
}
